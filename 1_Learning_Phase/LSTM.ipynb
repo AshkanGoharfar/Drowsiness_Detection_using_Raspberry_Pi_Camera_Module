{
 "cells": [
  {
   "cell_type": "code",
   "execution_count": 1,
   "metadata": {
    "collapsed": false
   },
   "outputs": [],
   "source": [
    "import pandas as pd\n",
    "import numpy as np\n",
    "import matplotlib.pyplot as plt\n",
    "from sklearn.model_selection import train_test_split"
   ]
  },
  {
   "cell_type": "code",
   "execution_count": 2,
   "metadata": {
    "collapsed": false
   },
   "outputs": [],
   "source": [
    "df = pd.read_csv('Data/Drowsiness_dataset.csv')\n",
    "\n",
    "\n",
    "\n",
    "\n",
    "# terms = []\n",
    "# for item in df['drowsiness']:\n",
    "#     if item not in terms:\n",
    "#         terms.append(item)\n",
    "#         print(item)\n",
    "\n",
    "# terms = sorted(terms)\n",
    "# print(terms)\n"
   ]
  },
  {
   "cell_type": "code",
   "execution_count": 3,
   "metadata": {
    "collapsed": true
   },
   "outputs": [],
   "source": [
    "df['drowsiness'].to_numpy()[np.where(df['drowsiness'].to_numpy() == 2)] = 1\n",
    "df['drowsiness'].to_numpy()[np.where(df['drowsiness'].to_numpy() == 3)] = 1\n",
    "df['drowsiness'].to_numpy()[np.where(df['drowsiness'].to_numpy() == 4)] = 1\n",
    "\n",
    "df['drowsiness'].to_numpy()[np.where(df['drowsiness'].to_numpy() == 5)] = 2\n",
    "df['drowsiness'].to_numpy()[np.where(df['drowsiness'].to_numpy() == 6)] = 2\n",
    "\n",
    "df['drowsiness'].to_numpy()[np.where(df['drowsiness'].to_numpy() == 7)] = 3\n",
    "df['drowsiness'].to_numpy()[np.where(df['drowsiness'].to_numpy() == 8)] = 3\n",
    "df['drowsiness'].to_numpy()[np.where(df['drowsiness'].to_numpy() == 9)] = 3\n"
   ]
  },
  {
   "cell_type": "code",
   "execution_count": null,
   "metadata": {
    "collapsed": true
   },
   "outputs": [],
   "source": [
    "df['drowsiness'].to_numpy()[np.where(df['drowsiness'].to_numpy() == 2)] = 1\n",
    "df['drowsiness'].to_numpy()[np.where(df['drowsiness'].to_numpy() == 3)] = 1\n",
    "df['drowsiness'].to_numpy()[np.where(df['drowsiness'].to_numpy() == 4)] = 1\n",
    "df['drowsiness'].to_numpy()[np.where(df['drowsiness'].to_numpy() == 5)] = 1\n",
    "\n",
    "df['drowsiness'].to_numpy()[np.where(df['drowsiness'].to_numpy() == 6)] = 2\n",
    "df['drowsiness'].to_numpy()[np.where(df['drowsiness'].to_numpy() == 7)] = 2\n",
    "df['drowsiness'].to_numpy()[np.where(df['drowsiness'].to_numpy() == 8)] = 2\n",
    "df['drowsiness'].to_numpy()[np.where(df['drowsiness'].to_numpy() == 9)] = 2"
   ]
  },
  {
   "cell_type": "code",
   "execution_count": 4,
   "metadata": {
    "collapsed": false
   },
   "outputs": [],
   "source": [
    "# df['drowsiness'] = df['drowsiness'].replace(np.unique(df['drowsiness'].to_numpy()), np.arange(8))\n",
    "\n",
    "df['drowsiness'] = df['drowsiness'].replace(np.unique(df['drowsiness'].to_numpy()), np.arange(3))"
   ]
  },
  {
   "cell_type": "code",
   "execution_count": null,
   "metadata": {
    "collapsed": true
   },
   "outputs": [],
   "source": []
  },
  {
   "cell_type": "code",
   "execution_count": null,
   "metadata": {
    "collapsed": true
   },
   "outputs": [],
   "source": []
  },
  {
   "cell_type": "code",
   "execution_count": 5,
   "metadata": {
    "collapsed": true
   },
   "outputs": [],
   "source": [
    "one_hot = pd.get_dummies(df['drowsiness'])"
   ]
  },
  {
   "cell_type": "code",
   "execution_count": 6,
   "metadata": {
    "collapsed": true
   },
   "outputs": [],
   "source": [
    "num_of_frames = 10"
   ]
  },
  {
   "cell_type": "code",
   "execution_count": 7,
   "metadata": {
    "collapsed": true
   },
   "outputs": [],
   "source": [
    "import tensorflow as tf"
   ]
  },
  {
   "cell_type": "code",
   "execution_count": 113,
   "metadata": {
    "collapsed": false
   },
   "outputs": [],
   "source": [
    "# model = tf.keras.models.Sequential()\n",
    "# model.add(tf.keras.layers.LSTM(500, input_shape=[12, 12]))\n",
    "# model.add(tf.keras.layers.Dense(8, activation='softmax'))\n",
    "# # model.add(tf.keras.layers.LSTM(55, input_shape=[5, 5]))\n",
    "# # model.add(tf.keras.layers.Dense(55, activation='softmax'))\n",
    "# model.compile(loss='binary_crossentropy', optimizer='adam',  metrics=['accuracy'])\n",
    "\n",
    "\n",
    "# model = tf.keras.models.Sequential()\n",
    "# model.add(tf.keras.layers.LSTM(500, input_shape=[8, 12]))\n",
    "# model.add(tf.keras.layers.Dense(8, activation='softmax'))\n",
    "# # model.add(tf.keras.layers.LSTM(55, input_shape=[5, 5]))\n",
    "# # model.add(tf.keras.layers.Dense(55, activation='softmax'))\n",
    "# model.compile(loss='binary_crossentropy', optimizer='adam',  metrics=['accuracy'])\n",
    "\n",
    "\n",
    "# model = tf.keras.models.Sequential()\n",
    "# model.add(tf.keras.layers.LSTM(400, input_shape=[8, 12]))\n",
    "# model.add(tf.keras.layers.Dense(1, activation='sigmoid'))\n",
    "# model.compile(optimizer='adam', loss='categorical_crossentropy', metrics=['MSE'])\n",
    "# cross_entropy"
   ]
  },
  {
   "cell_type": "code",
   "execution_count": 8,
   "metadata": {
    "collapsed": false
   },
   "outputs": [],
   "source": [
    "model = tf.keras.models.Sequential()\n",
    "# model.add(tf.keras.layers.LSTM(500, input_shape=[8, 12]))\n",
    "model.add(tf.keras.layers.LSTM(500, input_shape=[num_of_frames, 12]))\n",
    "# model.add(tf.keras.layers.Dense(8, activation='softmax'))\n",
    "model.add(tf.keras.layers.Dense(3, activation='softmax'))\n",
    "model.compile(loss='binary_crossentropy', optimizer='adam',  metrics=['accuracy'])\n",
    "\n",
    "\n",
    "\n",
    "\n",
    "\n",
    "# model.add(tf.keras.layers.Conv2D(10, 2, input_shape=[10, num_of_frames, 1]))\n",
    "# model.add(tf.keras.layers.MaxPool2D(pool_size=(2, 2), strides=(1, 1), padding='same'))\n",
    "# model.add(tf.keras.layers.Flatten())\n",
    "# model.add(tf.keras.layers.Reshape([36, 10]))\n",
    "# model.add(tf.keras.layers.LSTM(150))\n",
    "# model.add(tf.keras.layers.Dense(8, activation='softmax'))\n",
    "# model.compile(loss='binary_crossentropy', optimizer='adam',  metrics=['accuracy'])\n",
    "\n",
    "\n",
    "\n",
    "\n",
    "# model.add(tf.keras.layers.Conv2D(10, 2, input_shape=[10, 5, 1]))\n",
    "# model.add(tf.keras.layers.MaxPool2D(pool_size=(2, 2), strides=(1, 1), padding='same'))\n",
    "# model.add(tf.keras.layers.Flatten())\n",
    "# model.add(tf.keras.layers.Reshape([36, 10]))\n",
    "# model.add(tf.keras.layers.LSTM(150))\n",
    "# model.add(tf.keras.layers.Dense(55, activation='softmax'))\n",
    "# model.compile(loss='binary_crossentropy', optimizer='adam',  metrics=['accuracy'])"
   ]
  },
  {
   "cell_type": "code",
   "execution_count": 9,
   "metadata": {
    "collapsed": false
   },
   "outputs": [
    {
     "name": "stdout",
     "output_type": "stream",
     "text": [
      "(2100, 10, 12)\n"
     ]
    }
   ],
   "source": [
    "x = df.drop(['time', 'drowsiness'], axis=1).to_numpy()\n",
    "# x = x[:21000].reshape([-1, 8, 12])\n",
    "x = x[:21000].reshape([-1, num_of_frames, 12])\n",
    "# y = df['drowsiness'].to_numpy()\n",
    "# y = y[:21000]\n",
    "# # y = y.reshape([-1, 8])\n",
    "# y = y.reshape([-1, 20])\n",
    "\n",
    "print(x.shape)\n",
    "# print(y.shape)"
   ]
  },
  {
   "cell_type": "code",
   "execution_count": 10,
   "metadata": {
    "collapsed": false
   },
   "outputs": [
    {
     "name": "stdout",
     "output_type": "stream",
     "text": [
      "[[10  0  0]\n",
      " [10  0  0]\n",
      " [10  0  0]\n",
      " ...\n",
      " [ 0  0 10]\n",
      " [ 0  0 10]\n",
      " [ 0  0 10]]\n",
      "(2100, 10, 12)\n",
      "(2100, 3)\n"
     ]
    }
   ],
   "source": [
    "y = one_hot[:21000].to_numpy()\n",
    "# y = y.reshape([-1, 8, 8])\n",
    "# y = y.reshape([-1, num_of_frames, 8])\n",
    "y = y.reshape([-1, num_of_frames, 3])\n",
    "y = np.sum(y, 1)\n",
    "print(y)\n",
    "for label in y:\n",
    "    max_value_index = np.argmax(label)\n",
    "    label[max_value_index] = 1\n",
    "    label[0:max_value_index] = 0\n",
    "    label[max_value_index + 1:] = 0\n",
    "    \n",
    "# print('*******************************************************')\n",
    "# for item in y:\n",
    "#     print(item)\n",
    "# y[y > 1] = 1\n",
    "\n",
    "print(x.shape)\n",
    "print(y.shape)"
   ]
  },
  {
   "cell_type": "code",
   "execution_count": 11,
   "metadata": {
    "collapsed": false
   },
   "outputs": [
    {
     "name": "stdout",
     "output_type": "stream",
     "text": [
      "(1470, 10, 12)\n",
      "(1470, 3)\n"
     ]
    }
   ],
   "source": [
    "X_train, X_test, y_train, y_test = train_test_split(x, y, test_size=0.3, random_state=42)\n",
    "print(X_train.shape)\n",
    "print(y_train.shape)"
   ]
  },
  {
   "cell_type": "code",
   "execution_count": null,
   "metadata": {
    "collapsed": false
   },
   "outputs": [],
   "source": [
    "history = model.fit(X_train, y_train, epochs=50)"
   ]
  },
  {
   "cell_type": "code",
   "execution_count": 13,
   "metadata": {
    "collapsed": false
   },
   "outputs": [
    {
     "name": "stdout",
     "output_type": "stream",
     "text": [
      "20/20 [==============================] - 0s 19ms/step - loss: 0.5150 - accuracy: 0.6349\n"
     ]
    },
    {
     "data": {
      "text/plain": [
       "[0.5149700045585632, 0.6349206566810608]"
      ]
     },
     "execution_count": 13,
     "metadata": {},
     "output_type": "execute_result"
    }
   ],
   "source": [
    "model.evaluate(X_test, y_test)"
   ]
  },
  {
   "cell_type": "code",
   "execution_count": 15,
   "metadata": {
    "collapsed": false,
    "pycharm": {
     "name": "#%%\n"
    }
   },
   "outputs": [
    {
     "data": {
      "image/png": "[encoded data removed]",
      "text/plain": [
       "<Figure size 432x288 with 1 Axes>"
      ]
     },
     "metadata": {
      "needs_background": "light"
     },
     "output_type": "display_data"
    }
   ],
   "source": [
    "model.summary()"
   ]
  },
  {
   "cell_type": "code",
   "execution_count": 16,
   "metadata": {
    "collapsed": false,
    "pycharm": {
     "name": "#%%\n"
    }
   },
   "outputs": [
    {
     "name": "stdout",
     "output_type": "stream",
     "text": [
      "Model: \"sequential\"\n",
      "_________________________________________________________________\n",
      "Layer (type)                 Output Shape              Param #   \n",
      "=================================================================\n",
      "lstm (LSTM)                  (None, 500)               1026000   \n",
      "_________________________________________________________________\n",
      "dense (Dense)                (None, 3)                 1503      \n",
      "=================================================================\n",
      "Total params: 1,027,503\n",
      "Trainable params: 1,027,503\n",
      "Non-trainable params: 0\n",
      "_________________________________________________________________\n"
     ]
    }
   ],
   "source": [
    "#save entire model to HDF5 file\n",
    "model.save('LSTM_saved_model.h5')\n",
    "#Recreate the exact same model, including weights and optimizer\n",
    "new_model = tf.keras.models.load_model('LSTM_saved_model.h5')\n",
    "model.summary()"
   ]
  },
  {
   "cell_type": "code",
   "execution_count": null,
   "metadata": {
    "collapsed": false,
    "pycharm": {
     "name": "#%%\n"
    }
   },
   "outputs": [],
   "source": []
  },
  {
   "cell_type": "code",
   "execution_count": null,
   "metadata": {
    "collapsed": false,
    "pycharm": {
     "name": "#%%\n"
    }
   },
   "outputs": [],
   "source": []
  },
  {
   "cell_type": "code",
   "execution_count": null,
   "metadata": {
    "collapsed": false,
    "pycharm": {
     "name": "#%%\n"
    }
   },
   "outputs": [],
   "source": [
    "import pandas as pd\n",
    "import numpy as np\n",
    "import matplotlib.pyplot as plt\n",
    "from sklearn.model_selection import train_test_split"
   ]
  },
  {
   "cell_type": "code",
   "execution_count": null,
   "metadata": {
    "collapsed": false,
    "pycharm": {
     "name": "#%%\n"
    }
   },
   "outputs": [],
   "source": [
    "# df = pd.read_csv('BLE_rssi_V12.csv')\n",
    "# df = pd.read_csv('Data/BLE_rssi_after_FFT_Filter_Grid_1.5m_2.5m.csv')\n",
    "df = pd.read_csv('Data/Drowsiness_dataset.csv')\n"
   ]
  },
  {
   "cell_type": "code",
   "execution_count": null,
   "metadata": {
    "collapsed": false,
    "pycharm": {
     "name": "#%%\n"
    }
   },
   "outputs": [],
   "source": [
    "df['drowsiness'] = df['drowsiness'].replace(np.unique(df['drowsiness'].to_numpy()), np.arange(8))"
   ]
  },
  {
   "cell_type": "code",
   "execution_count": null,
   "metadata": {
    "collapsed": false,
    "pycharm": {
     "name": "#%%\n"
    }
   },
   "outputs": [],
   "source": [
    "## Y calculation\n",
    "one_hot = pd.get_dummies(df['drowsiness'])\n",
    "y = one_hot[:21000].to_numpy()\n",
    "y = y.reshape([-1, 10, 8])\n",
    "# y = y.reshape([-1, 20, 8])\n",
    "y = np.sum(y, 1)\n",
    "y[y > 1] = 1\n",
    "\n",
    "x = df.drop(['time', 'drowsiness'], axis=1).to_numpy()\n",
    "x = x[:21000].reshape([-1, 10, 12, 1])\n",
    "# x = x[:21000].reshape([-1, 20, 12, 1])"
   ]
  },
  {
   "cell_type": "code",
   "execution_count": null,
   "metadata": {
    "collapsed": false,
    "pycharm": {
     "name": "#%%\n"
    }
   },
   "outputs": [],
   "source": [
    "import tensorflow as tf"
   ]
  },
  {
   "cell_type": "code",
   "execution_count": null,
   "metadata": {
    "collapsed": false,
    "pycharm": {
     "name": "#%%\n"
    }
   },
   "outputs": [],
   "source": [
    "model = tf.keras.models.Sequential()\n",
    "model.add(tf.keras.layers.Conv2D(10, 2, input_shape=[10, 12, 1]))\n",
    "# model.add(tf.keras.layers.Conv2D(20, 2, input_shape=[20, 12, 1]))\n",
    "model.add(tf.keras.layers.MaxPool2D(pool_size=(2, 2), strides=(1, 1), padding='same'))\n",
    "model.add(tf.keras.layers.Flatten())\n",
    "model.add(tf.keras.layers.Reshape([99, 10]))\n",
    "# model.add(tf.keras.layers.Reshape([209, 20]))\n",
    "model.add(tf.keras.layers.LSTM(500))\n",
    "model.add(tf.keras.layers.Dense(8, activation='softmax'))\n",
    "model.compile(loss='binary_crossentropy', optimizer='adam',  metrics=['accuracy'])"
   ]
  },
  {
   "cell_type": "code",
   "execution_count": null,
   "metadata": {
    "collapsed": false,
    "pycharm": {
     "name": "#%%\n"
    }
   },
   "outputs": [],
   "source": [
    "X_train, X_test, y_train, y_test = train_test_split(x, y, test_size=0.33, random_state=12)\n",
    "\n",
    "\n",
    "print(X_train.shape)\n",
    "print(X_test.shape)\n",
    "\n",
    "print(y_train.shape)\n",
    "print(y_test.shape)"
   ]
  },
  {
   "cell_type": "code",
   "execution_count": null,
   "metadata": {
    "collapsed": false,
    "pycharm": {
     "name": "#%%\n"
    }
   },
   "outputs": [],
   "source": [
    "history = model.fit(X_train, y_train, epochs=90)"
   ]
  },
  {
   "cell_type": "code",
   "execution_count": null,
   "metadata": {
    "collapsed": false,
    "pycharm": {
     "name": "#%%\n"
    }
   },
   "outputs": [],
   "source": [
    "model.evaluate(X_test, y_test)"
   ]
  },
  {
   "cell_type": "code",
   "execution_count": 125,
   "metadata": {
    "collapsed": false
   },
   "outputs": [
    {
     "name": "stdout",
     "output_type": "stream",
     "text": [
      "14/14 [==============================] - 0s 27ms/step - loss: 0.3903 - accuracy: 0.5357\n"
     ]
    },
    {
     "data": {
      "text/plain": [
       "[0.3903229832649231, 0.5357142686843872]"
      ]
     },
     "execution_count": 125,
     "metadata": {},
     "output_type": "execute_result"
    }
   ],
   "source": []
  },
  {
   "cell_type": "code",
   "execution_count": 71,
   "metadata": {
    "collapsed": false
   },
   "outputs": [
    {
     "name": "stdout",
     "output_type": "stream",
     "text": [
      "Model: \"sequential_4\"\n",
      "_________________________________________________________________\n",
      "Layer (type)                 Output Shape              Param #   \n",
      "=================================================================\n",
      "lstm_4 (LSTM)                (None, 500)               1026000   \n",
      "_________________________________________________________________\n",
      "dense_4 (Dense)              (None, 8)                 4008      \n",
      "=================================================================\n",
      "Total params: 1,030,008\n",
      "Trainable params: 1,030,008\n",
      "Non-trainable params: 0\n",
      "_________________________________________________________________\n"
     ]
    }
   ],
   "source": [
    "model.summary()"
   ]
  },
  {
   "cell_type": "code",
   "execution_count": 72,
   "metadata": {
    "collapsed": false
   },
   "outputs": [
    {
     "data": {
      "image/png": "[encoded data removed]",
      "text/plain": [
       "<Figure size 432x288 with 1 Axes>"
      ]
     },
     "metadata": {
      "needs_background": "light"
     },
     "output_type": "display_data"
    }
   ],
   "source": [
    "fig = plt.figure()\n",
    "plt.plot(history.history['loss'],'r')\n",
    "plt.plot(history.history['accuracy'],'b')\n",
    "plt.title('model accuracy and loss per epoch')\n",
    "plt.ylabel('accuracy and loss')\n",
    "plt.xlabel('epoch')\n",
    "plt.legend(['loss', 'accuracy'], loc='upper right')\n",
    "plt.grid()"
   ]
  },
  {
   "cell_type": "code",
   "execution_count": 73,
   "metadata": {
    "collapsed": false
   },
   "outputs": [
    {
     "name": "stdout",
     "output_type": "stream",
     "text": [
      "Model: \"sequential_4\"\n",
      "_________________________________________________________________\n",
      "Layer (type)                 Output Shape              Param #   \n",
      "=================================================================\n",
      "lstm_4 (LSTM)                (None, 500)               1026000   \n",
      "_________________________________________________________________\n",
      "dense_4 (Dense)              (None, 8)                 4008      \n",
      "=================================================================\n",
      "Total params: 1,030,008\n",
      "Trainable params: 1,030,008\n",
      "Non-trainable params: 0\n",
      "_________________________________________________________________\n"
     ]
    }
   ],
   "source": [
    "#save entire model to HDF5 file\n",
    "model.save('LSTM_saved_model.h5')\n",
    "#Recreate the exact same model, including weights and optimizer\n",
    "new_model = tf.keras.models.load_model('LSTM_saved_model.h5')\n",
    "model.summary()"
   ]
  },
  {
   "cell_type": "code",
   "execution_count": null,
   "metadata": {
    "collapsed": true
   },
   "outputs": [],
   "source": []
  },
  {
   "cell_type": "code",
   "execution_count": null,
   "metadata": {
    "collapsed": true
   },
   "outputs": [],
   "source": []
  },
  {
   "cell_type": "code",
   "execution_count": 201,
   "metadata": {
    "collapsed": true
   },
   "outputs": [],
   "source": []
  },
  {
   "cell_type": "code",
   "execution_count": 202,
   "metadata": {
    "collapsed": true
   },
   "outputs": [],
   "source": []
  },
  {
   "cell_type": "code",
   "execution_count": 203,
   "metadata": {
    "collapsed": true
   },
   "outputs": [],
   "source": []
  },
  {
   "cell_type": "code",
   "execution_count": 204,
   "metadata": {
    "collapsed": true
   },
   "outputs": [],
   "source": []
  },
  {
   "cell_type": "code",
   "execution_count": 205,
   "metadata": {
    "collapsed": true
   },
   "outputs": [],
   "source": []
  },
  {
   "cell_type": "code",
   "execution_count": 206,
   "metadata": {
    "collapsed": true
   },
   "outputs": [],
   "source": []
  },
  {
   "cell_type": "code",
   "execution_count": 207,
   "metadata": {
    "collapsed": false
   },
   "outputs": [
    {
     "name": "stdout",
     "output_type": "stream",
     "text": [
      "(1407, 10, 12, 1)\n",
      "(693, 10, 12, 1)\n",
      "(1407, 8)\n",
      "(693, 8)\n"
     ]
    }
   ],
   "source": []
  },
  {
   "cell_type": "code",
   "execution_count": 209,
   "metadata": {
    "collapsed": false
   },
   "outputs": [],
   "source": []
  },
  {
   "cell_type": "code",
   "execution_count": 200,
   "metadata": {
    "collapsed": false
   },
   "outputs": [
    {
     "name": "stdout",
     "output_type": "stream",
     "text": [
      "11/11 [==============================] - 4s 374ms/step - loss: 0.3402 - accuracy: 0.2939\n"
     ]
    },
    {
     "data": {
      "text/plain": [
       "[0.34022918343544006, 0.29394811391830444]"
      ]
     },
     "execution_count": 200,
     "metadata": {},
     "output_type": "execute_result"
    }
   ],
   "source": []
  },
  {
   "cell_type": "code",
   "execution_count": null,
   "metadata": {
    "collapsed": true
   },
   "outputs": [],
   "source": []
  }
 ],
 "metadata": {
  "kernelspec": {
   "display_name": "Python 3",
   "language": "python",
   "name": "python3"
  },
  "language_info": {
   "codemirror_mode": {
    "name": "ipython",
    "version": 3
   },
   "file_extension": ".py",
   "mimetype": "text/x-python",
   "name": "python",
   "nbconvert_exporter": "python",
   "pygments_lexer": "ipython3",
   "version": "3.8.0"
  },
  "pycharm": {
   "stem_cell": {
    "cell_type": "raw",
    "source": [],
    "metadata": {
     "collapsed": false
    }
   }
  }
 },
 "nbformat": 4,
 "nbformat_minor": 4
}