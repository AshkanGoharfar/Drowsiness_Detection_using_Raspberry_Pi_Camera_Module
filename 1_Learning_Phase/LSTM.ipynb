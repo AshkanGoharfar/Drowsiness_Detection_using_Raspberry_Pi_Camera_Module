{
 "cells": [
  {
   "cell_type": "code",
   "execution_count": 127,
   "metadata": {
    "collapsed": false
   },
   "outputs": [],
   "source": [
    "import pandas as pd\n",
    "import numpy as np\n",
    "import matplotlib.pyplot as plt\n",
    "from sklearn.model_selection import train_test_split"
   ]
  },
  {
   "cell_type": "code",
   "execution_count": 128,
   "metadata": {
    "collapsed": true
   },
   "outputs": [],
   "source": [
    "# df = pd.read_csv('BLE_rssi_V12.csv')\n",
    "# df = pd.read_csv('Data/BLE_rssi_after_FFT_Filter_Grid_1.5m_2.5m.csv')\n",
    "df = pd.read_csv('Data/Drowsiness_dataset.csv')\n"
   ]
  },
  {
   "cell_type": "code",
   "execution_count": 129,
   "metadata": {
    "collapsed": false
   },
   "outputs": [],
   "source": [
    "df['drowsiness'] = df['drowsiness'].replace(np.unique(df['drowsiness'].to_numpy()), np.arange(8))"
   ]
  },
  {
   "cell_type": "code",
   "execution_count": null,
   "metadata": {
    "collapsed": true
   },
   "outputs": [],
   "source": []
  },
  {
   "cell_type": "code",
   "execution_count": null,
   "metadata": {
    "collapsed": true
   },
   "outputs": [],
   "source": []
  },
  {
   "cell_type": "code",
   "execution_count": 130,
   "metadata": {
    "collapsed": true
   },
   "outputs": [],
   "source": [
    "one_hot = pd.get_dummies(df['drowsiness'])"
   ]
  },
  {
   "cell_type": "code",
   "execution_count": 131,
   "metadata": {
    "collapsed": true
   },
   "outputs": [],
   "source": [
    "num_of_frames = 10"
   ]
  },
  {
   "cell_type": "code",
   "execution_count": 132,
   "metadata": {
    "collapsed": true
   },
   "outputs": [],
   "source": [
    "import tensorflow as tf"
   ]
  },
  {
   "cell_type": "code",
   "execution_count": 113,
   "metadata": {
    "collapsed": false
   },
   "outputs": [],
   "source": [
    "# model = tf.keras.models.Sequential()\n",
    "# model.add(tf.keras.layers.LSTM(500, input_shape=[12, 12]))\n",
    "# model.add(tf.keras.layers.Dense(8, activation='softmax'))\n",
    "# # model.add(tf.keras.layers.LSTM(55, input_shape=[5, 5]))\n",
    "# # model.add(tf.keras.layers.Dense(55, activation='softmax'))\n",
    "# model.compile(loss='binary_crossentropy', optimizer='adam',  metrics=['accuracy'])\n",
    "\n",
    "\n",
    "model = tf.keras.models.Sequential()\n",
    "model.add(tf.keras.layers.LSTM(500, input_shape=[8, 12]))\n",
    "model.add(tf.keras.layers.Dense(8, activation='softmax'))\n",
    "# model.add(tf.keras.layers.LSTM(55, input_shape=[5, 5]))\n",
    "# model.add(tf.keras.layers.Dense(55, activation='softmax'))\n",
    "model.compile(loss='binary_crossentropy', optimizer='adam',  metrics=['accuracy'])\n",
    "\n",
    "\n",
    "# model = tf.keras.models.Sequential()\n",
    "# model.add(tf.keras.layers.LSTM(400, input_shape=[8, 12]))\n",
    "# model.add(tf.keras.layers.Dense(1, activation='sigmoid'))\n",
    "# model.compile(optimizer='adam', loss='categorical_crossentropy', metrics=['MSE'])\n",
    "# cross_entropy"
   ]
  },
  {
   "cell_type": "code",
   "execution_count": 136,
   "metadata": {
    "collapsed": false
   },
   "outputs": [
    {
     "ename": "ValueError",
     "evalue": "Input 0 of layer conv2d_4 is incompatible with the layer: expected ndim=4, found ndim=2. Full shape received: [None, 8]",
     "output_type": "error",
     "traceback": [
      "\u001b[1;31m---------------------------------------------------------------------------\u001b[0m",
      "\u001b[1;31mValueError\u001b[0m                                Traceback (most recent call last)",
      "\u001b[1;32m<ipython-input-136-d5c4486defa2>\u001b[0m in \u001b[0;36m<module>\u001b[1;34m\u001b[0m\n\u001b[0;32m      9\u001b[0m \u001b[1;33m\u001b[0m\u001b[0m\n\u001b[0;32m     10\u001b[0m \u001b[1;33m\u001b[0m\u001b[0m\n\u001b[1;32m---> 11\u001b[1;33m \u001b[0mmodel\u001b[0m\u001b[1;33m.\u001b[0m\u001b[0madd\u001b[0m\u001b[1;33m(\u001b[0m\u001b[0mtf\u001b[0m\u001b[1;33m.\u001b[0m\u001b[0mkeras\u001b[0m\u001b[1;33m.\u001b[0m\u001b[0mlayers\u001b[0m\u001b[1;33m.\u001b[0m\u001b[0mConv2D\u001b[0m\u001b[1;33m(\u001b[0m\u001b[1;36m10\u001b[0m\u001b[1;33m,\u001b[0m \u001b[1;36m2\u001b[0m\u001b[1;33m,\u001b[0m \u001b[0minput_shape\u001b[0m\u001b[1;33m=\u001b[0m\u001b[1;33m[\u001b[0m\u001b[1;36m10\u001b[0m\u001b[1;33m,\u001b[0m \u001b[0mnum_of_frames\u001b[0m\u001b[1;33m,\u001b[0m \u001b[1;36m1\u001b[0m\u001b[1;33m]\u001b[0m\u001b[1;33m)\u001b[0m\u001b[1;33m)\u001b[0m\u001b[1;33m\u001b[0m\u001b[1;33m\u001b[0m\u001b[0m\n\u001b[0m\u001b[0;32m     12\u001b[0m \u001b[0mmodel\u001b[0m\u001b[1;33m.\u001b[0m\u001b[0madd\u001b[0m\u001b[1;33m(\u001b[0m\u001b[0mtf\u001b[0m\u001b[1;33m.\u001b[0m\u001b[0mkeras\u001b[0m\u001b[1;33m.\u001b[0m\u001b[0mlayers\u001b[0m\u001b[1;33m.\u001b[0m\u001b[0mMaxPool2D\u001b[0m\u001b[1;33m(\u001b[0m\u001b[0mpool_size\u001b[0m\u001b[1;33m=\u001b[0m\u001b[1;33m(\u001b[0m\u001b[1;36m2\u001b[0m\u001b[1;33m,\u001b[0m \u001b[1;36m2\u001b[0m\u001b[1;33m)\u001b[0m\u001b[1;33m,\u001b[0m \u001b[0mstrides\u001b[0m\u001b[1;33m=\u001b[0m\u001b[1;33m(\u001b[0m\u001b[1;36m1\u001b[0m\u001b[1;33m,\u001b[0m \u001b[1;36m1\u001b[0m\u001b[1;33m)\u001b[0m\u001b[1;33m,\u001b[0m \u001b[0mpadding\u001b[0m\u001b[1;33m=\u001b[0m\u001b[1;34m'same'\u001b[0m\u001b[1;33m)\u001b[0m\u001b[1;33m)\u001b[0m\u001b[1;33m\u001b[0m\u001b[1;33m\u001b[0m\u001b[0m\n\u001b[0;32m     13\u001b[0m \u001b[0mmodel\u001b[0m\u001b[1;33m.\u001b[0m\u001b[0madd\u001b[0m\u001b[1;33m(\u001b[0m\u001b[0mtf\u001b[0m\u001b[1;33m.\u001b[0m\u001b[0mkeras\u001b[0m\u001b[1;33m.\u001b[0m\u001b[0mlayers\u001b[0m\u001b[1;33m.\u001b[0m\u001b[0mFlatten\u001b[0m\u001b[1;33m(\u001b[0m\u001b[1;33m)\u001b[0m\u001b[1;33m)\u001b[0m\u001b[1;33m\u001b[0m\u001b[1;33m\u001b[0m\u001b[0m\n",
      "\u001b[1;32mc:\\users\\ashkan\\appdata\\local\\programs\\python\\python38\\lib\\site-packages\\tensorflow\\python\\training\\tracking\\base.py\u001b[0m in \u001b[0;36m_method_wrapper\u001b[1;34m(self, *args, **kwargs)\u001b[0m\n\u001b[0;32m    454\u001b[0m     \u001b[0mself\u001b[0m\u001b[1;33m.\u001b[0m\u001b[0m_self_setattr_tracking\u001b[0m \u001b[1;33m=\u001b[0m \u001b[1;32mFalse\u001b[0m  \u001b[1;31m# pylint: disable=protected-access\u001b[0m\u001b[1;33m\u001b[0m\u001b[1;33m\u001b[0m\u001b[0m\n\u001b[0;32m    455\u001b[0m     \u001b[1;32mtry\u001b[0m\u001b[1;33m:\u001b[0m\u001b[1;33m\u001b[0m\u001b[1;33m\u001b[0m\u001b[0m\n\u001b[1;32m--> 456\u001b[1;33m       \u001b[0mresult\u001b[0m \u001b[1;33m=\u001b[0m \u001b[0mmethod\u001b[0m\u001b[1;33m(\u001b[0m\u001b[0mself\u001b[0m\u001b[1;33m,\u001b[0m \u001b[1;33m*\u001b[0m\u001b[0margs\u001b[0m\u001b[1;33m,\u001b[0m \u001b[1;33m**\u001b[0m\u001b[0mkwargs\u001b[0m\u001b[1;33m)\u001b[0m\u001b[1;33m\u001b[0m\u001b[1;33m\u001b[0m\u001b[0m\n\u001b[0m\u001b[0;32m    457\u001b[0m     \u001b[1;32mfinally\u001b[0m\u001b[1;33m:\u001b[0m\u001b[1;33m\u001b[0m\u001b[1;33m\u001b[0m\u001b[0m\n\u001b[0;32m    458\u001b[0m       \u001b[0mself\u001b[0m\u001b[1;33m.\u001b[0m\u001b[0m_self_setattr_tracking\u001b[0m \u001b[1;33m=\u001b[0m \u001b[0mprevious_value\u001b[0m  \u001b[1;31m# pylint: disable=protected-access\u001b[0m\u001b[1;33m\u001b[0m\u001b[1;33m\u001b[0m\u001b[0m\n",
      "\u001b[1;32mc:\\users\\ashkan\\appdata\\local\\programs\\python\\python38\\lib\\site-packages\\tensorflow\\python\\keras\\engine\\sequential.py\u001b[0m in \u001b[0;36madd\u001b[1;34m(self, layer)\u001b[0m\n\u001b[0;32m    211\u001b[0m       \u001b[1;31m# If the model is being built continuously on top of an input layer:\u001b[0m\u001b[1;33m\u001b[0m\u001b[1;33m\u001b[0m\u001b[1;33m\u001b[0m\u001b[0m\n\u001b[0;32m    212\u001b[0m       \u001b[1;31m# refresh its output.\u001b[0m\u001b[1;33m\u001b[0m\u001b[1;33m\u001b[0m\u001b[1;33m\u001b[0m\u001b[0m\n\u001b[1;32m--> 213\u001b[1;33m       \u001b[0moutput_tensor\u001b[0m \u001b[1;33m=\u001b[0m \u001b[0mlayer\u001b[0m\u001b[1;33m(\u001b[0m\u001b[0mself\u001b[0m\u001b[1;33m.\u001b[0m\u001b[0moutputs\u001b[0m\u001b[1;33m[\u001b[0m\u001b[1;36m0\u001b[0m\u001b[1;33m]\u001b[0m\u001b[1;33m)\u001b[0m\u001b[1;33m\u001b[0m\u001b[1;33m\u001b[0m\u001b[0m\n\u001b[0m\u001b[0;32m    214\u001b[0m       \u001b[1;32mif\u001b[0m \u001b[0mlen\u001b[0m\u001b[1;33m(\u001b[0m\u001b[0mnest\u001b[0m\u001b[1;33m.\u001b[0m\u001b[0mflatten\u001b[0m\u001b[1;33m(\u001b[0m\u001b[0moutput_tensor\u001b[0m\u001b[1;33m)\u001b[0m\u001b[1;33m)\u001b[0m \u001b[1;33m!=\u001b[0m \u001b[1;36m1\u001b[0m\u001b[1;33m:\u001b[0m\u001b[1;33m\u001b[0m\u001b[1;33m\u001b[0m\u001b[0m\n\u001b[0;32m    215\u001b[0m         \u001b[1;32mraise\u001b[0m \u001b[0mValueError\u001b[0m\u001b[1;33m(\u001b[0m\u001b[0mSINGLE_LAYER_OUTPUT_ERROR_MSG\u001b[0m\u001b[1;33m)\u001b[0m\u001b[1;33m\u001b[0m\u001b[1;33m\u001b[0m\u001b[0m\n",
      "\u001b[1;32mc:\\users\\ashkan\\appdata\\local\\programs\\python\\python38\\lib\\site-packages\\tensorflow\\python\\keras\\engine\\base_layer.py\u001b[0m in \u001b[0;36m__call__\u001b[1;34m(self, *args, **kwargs)\u001b[0m\n\u001b[0;32m    883\u001b[0m         \u001b[1;31m# TODO(reedwm): We should assert input compatibility after the inputs\u001b[0m\u001b[1;33m\u001b[0m\u001b[1;33m\u001b[0m\u001b[1;33m\u001b[0m\u001b[0m\n\u001b[0;32m    884\u001b[0m         \u001b[1;31m# are casted, not before.\u001b[0m\u001b[1;33m\u001b[0m\u001b[1;33m\u001b[0m\u001b[1;33m\u001b[0m\u001b[0m\n\u001b[1;32m--> 885\u001b[1;33m         input_spec.assert_input_compatibility(self.input_spec, inputs,\n\u001b[0m\u001b[0;32m    886\u001b[0m                                               self.name)\n\u001b[0;32m    887\u001b[0m         if (any(isinstance(x, ragged_tensor.RaggedTensor) for x in input_list)\n",
      "\u001b[1;32mc:\\users\\ashkan\\appdata\\local\\programs\\python\\python38\\lib\\site-packages\\tensorflow\\python\\keras\\engine\\input_spec.py\u001b[0m in \u001b[0;36massert_input_compatibility\u001b[1;34m(input_spec, inputs, layer_name)\u001b[0m\n\u001b[0;32m    174\u001b[0m       \u001b[0mndim\u001b[0m \u001b[1;33m=\u001b[0m \u001b[0mx\u001b[0m\u001b[1;33m.\u001b[0m\u001b[0mshape\u001b[0m\u001b[1;33m.\u001b[0m\u001b[0mndims\u001b[0m\u001b[1;33m\u001b[0m\u001b[1;33m\u001b[0m\u001b[0m\n\u001b[0;32m    175\u001b[0m       \u001b[1;32mif\u001b[0m \u001b[0mndim\u001b[0m \u001b[1;33m!=\u001b[0m \u001b[0mspec\u001b[0m\u001b[1;33m.\u001b[0m\u001b[0mndim\u001b[0m\u001b[1;33m:\u001b[0m\u001b[1;33m\u001b[0m\u001b[1;33m\u001b[0m\u001b[0m\n\u001b[1;32m--> 176\u001b[1;33m         raise ValueError('Input ' + str(input_index) + ' of layer ' +\n\u001b[0m\u001b[0;32m    177\u001b[0m                          \u001b[0mlayer_name\u001b[0m \u001b[1;33m+\u001b[0m \u001b[1;34m' is incompatible with the layer: '\u001b[0m\u001b[1;33m\u001b[0m\u001b[1;33m\u001b[0m\u001b[0m\n\u001b[0;32m    178\u001b[0m                          \u001b[1;34m'expected ndim='\u001b[0m \u001b[1;33m+\u001b[0m \u001b[0mstr\u001b[0m\u001b[1;33m(\u001b[0m\u001b[0mspec\u001b[0m\u001b[1;33m.\u001b[0m\u001b[0mndim\u001b[0m\u001b[1;33m)\u001b[0m \u001b[1;33m+\u001b[0m \u001b[1;34m', found ndim='\u001b[0m \u001b[1;33m+\u001b[0m\u001b[1;33m\u001b[0m\u001b[1;33m\u001b[0m\u001b[0m\n",
      "\u001b[1;31mValueError\u001b[0m: Input 0 of layer conv2d_4 is incompatible with the layer: expected ndim=4, found ndim=2. Full shape received: [None, 8]"
     ]
    }
   ],
   "source": [
    "# model = tf.keras.models.Sequential()\n",
    "# # model.add(tf.keras.layers.LSTM(500, input_shape=[8, 12]))\n",
    "# model.add(tf.keras.layers.LSTM(500, input_shape=[num_of_frames, 12]))\n",
    "# model.add(tf.keras.layers.Dense(8, activation='softmax'))\n",
    "# model.compile(loss='binary_crossentropy', optimizer='adam',  metrics=['accuracy'])\n",
    "\n",
    "\n",
    "\n",
    "\n",
    "\n",
    "model.add(tf.keras.layers.Conv2D(10, 2, input_shape=[10, num_of_frames, 1]))\n",
    "model.add(tf.keras.layers.MaxPool2D(pool_size=(2, 2), strides=(1, 1), padding='same'))\n",
    "model.add(tf.keras.layers.Flatten())\n",
    "model.add(tf.keras.layers.Reshape([36, 10]))\n",
    "model.add(tf.keras.layers.LSTM(150))\n",
    "model.add(tf.keras.layers.Dense(8, activation='softmax'))\n",
    "model.compile(loss='binary_crossentropy', optimizer='adam',  metrics=['accuracy'])\n",
    "\n",
    "\n",
    "\n",
    "\n",
    "# model.add(tf.keras.layers.Conv2D(10, 2, input_shape=[10, 5, 1]))\n",
    "# model.add(tf.keras.layers.MaxPool2D(pool_size=(2, 2), strides=(1, 1), padding='same'))\n",
    "# model.add(tf.keras.layers.Flatten())\n",
    "# model.add(tf.keras.layers.Reshape([36, 10]))\n",
    "# model.add(tf.keras.layers.LSTM(150))\n",
    "# model.add(tf.keras.layers.Dense(55, activation='softmax'))\n",
    "# model.compile(loss='binary_crossentropy', optimizer='adam',  metrics=['accuracy'])"
   ]
  },
  {
   "cell_type": "code",
   "execution_count": 121,
   "metadata": {
    "collapsed": false
   },
   "outputs": [
    {
     "name": "stdout",
     "output_type": "stream",
     "text": [
      "(1400, 15, 12)\n",
      "(1400, 8)\n"
     ]
    }
   ],
   "source": [
    "x = df.drop(['time', 'drowsiness'], axis=1).to_numpy()\n",
    "# x = x[:21000].reshape([-1, 8, 12])\n",
    "x = x[:21000].reshape([-1, num_of_frames, 12])\n",
    "# y = df['drowsiness'].to_numpy()\n",
    "# y = y[:21000]\n",
    "# # y = y.reshape([-1, 8])\n",
    "# y = y.reshape([-1, 20])\n",
    "\n",
    "print(x.shape)\n",
    "print(y.shape)"
   ]
  },
  {
   "cell_type": "code",
   "execution_count": 122,
   "metadata": {
    "collapsed": false
   },
   "outputs": [
    {
     "name": "stdout",
     "output_type": "stream",
     "text": [
      "[[ 0 15  0 ...  0  0  0]\n",
      " [ 0 15  0 ...  0  0  0]\n",
      " [ 0 15  0 ...  0  0  0]\n",
      " ...\n",
      " [ 0  0  0 ...  0 15  0]\n",
      " [ 0  0  0 ...  0 15  0]\n",
      " [ 0  0  0 ...  0 15  0]]\n",
      "(1400, 15, 12)\n",
      "(1400, 8)\n"
     ]
    }
   ],
   "source": [
    "y = one_hot[:21000].to_numpy()\n",
    "# y = y.reshape([-1, 8, 8])\n",
    "y = y.reshape([-1, num_of_frames, 8])\n",
    "y = np.sum(y, 1)\n",
    "print(y)\n",
    "for label in y:\n",
    "    max_value_index = np.argmax(label)\n",
    "    label[max_value_index] = 1\n",
    "    label[0:max_value_index] = 0\n",
    "    label[max_value_index + 1:] = 0\n",
    "    \n",
    "# print('*******************************************************')\n",
    "# for item in y:\n",
    "#     print(item)\n",
    "# y[y > 1] = 1\n",
    "\n",
    "print(x.shape)\n",
    "print(y.shape)"
   ]
  },
  {
   "cell_type": "code",
   "execution_count": 123,
   "metadata": {
    "collapsed": false
   },
   "outputs": [
    {
     "name": "stdout",
     "output_type": "stream",
     "text": [
      "(980, 15, 12)\n",
      "(980, 8)\n"
     ]
    }
   ],
   "source": [
    "X_train, X_test, y_train, y_test = train_test_split(x, y, test_size=0.3, random_state=42)\n",
    "print(X_train.shape)\n",
    "print(y_train.shape)"
   ]
  },
  {
   "cell_type": "code",
   "execution_count": 124,
   "metadata": {
    "collapsed": false
   },
   "outputs": [
    {
     "name": "stdout",
     "output_type": "stream",
     "text": [
      "Epoch 1/100\n",
      "31/31 [==============================] - 2s 70ms/step - loss: 0.3563 - accuracy: 0.2480\n",
      "Epoch 2/100\n",
      "31/31 [==============================] - 2s 78ms/step - loss: 0.3307 - accuracy: 0.3204\n",
      "Epoch 3/100\n",
      "31/31 [==============================] - 3s 82ms/step - loss: 0.3162 - accuracy: 0.3602\n",
      "Epoch 4/100\n",
      "31/31 [==============================] - 2s 73ms/step - loss: 0.3144 - accuracy: 0.3714\n",
      "Epoch 5/100\n",
      "31/31 [==============================] - 2s 71ms/step - loss: 0.3063 - accuracy: 0.3878\n",
      "Epoch 6/100\n",
      "31/31 [==============================] - 2s 71ms/step - loss: 0.3009 - accuracy: 0.3837\n",
      "Epoch 7/100\n",
      "31/31 [==============================] - 2s 72ms/step - loss: 0.3129 - accuracy: 0.3643\n",
      "Epoch 8/100\n",
      "31/31 [==============================] - 2s 78ms/step - loss: 0.2944 - accuracy: 0.4133\n",
      "Epoch 9/100\n",
      "31/31 [==============================] - 2s 75ms/step - loss: 0.2855 - accuracy: 0.4316\n",
      "Epoch 10/100\n",
      "31/31 [==============================] - 3s 82ms/step - loss: 0.2866 - accuracy: 0.4296\n",
      "Epoch 11/100\n",
      "31/31 [==============================] - 3s 91ms/step - loss: 0.2891 - accuracy: 0.4082\n",
      "Epoch 12/100\n",
      "31/31 [==============================] - 3s 92ms/step - loss: 0.2793 - accuracy: 0.4398\n",
      "Epoch 13/100\n",
      "31/31 [==============================] - 3s 94ms/step - loss: 0.2766 - accuracy: 0.4357\n",
      "Epoch 14/100\n",
      "31/31 [==============================] - 2s 80ms/step - loss: 0.2738 - accuracy: 0.4592\n",
      "Epoch 15/100\n",
      "31/31 [==============================] - 3s 82ms/step - loss: 0.2610 - accuracy: 0.4857\n",
      "Epoch 16/100\n",
      "31/31 [==============================] - 2s 78ms/step - loss: 0.2597 - accuracy: 0.4939\n",
      "Epoch 17/100\n",
      "31/31 [==============================] - 2s 77ms/step - loss: 0.2715 - accuracy: 0.4541\n",
      "Epoch 18/100\n",
      "31/31 [==============================] - 2s 79ms/step - loss: 0.2693 - accuracy: 0.4418\n",
      "Epoch 19/100\n",
      "31/31 [==============================] - 2s 80ms/step - loss: 0.2631 - accuracy: 0.4765\n",
      "Epoch 20/100\n",
      "31/31 [==============================] - 2s 71ms/step - loss: 0.2495 - accuracy: 0.4888\n",
      "Epoch 21/100\n",
      "31/31 [==============================] - 3s 85ms/step - loss: 0.2505 - accuracy: 0.4969\n",
      "Epoch 22/100\n",
      "31/31 [==============================] - 3s 85ms/step - loss: 0.2428 - accuracy: 0.5296\n",
      "Epoch 23/100\n",
      "31/31 [==============================] - 3s 81ms/step - loss: 0.2381 - accuracy: 0.5347\n",
      "Epoch 24/100\n",
      "31/31 [==============================] - 2s 71ms/step - loss: 0.2424 - accuracy: 0.5255\n",
      "Epoch 25/100\n",
      "31/31 [==============================] - 2s 78ms/step - loss: 0.2396 - accuracy: 0.5337\n",
      "Epoch 26/100\n",
      "31/31 [==============================] - 2s 80ms/step - loss: 0.2393 - accuracy: 0.5194\n",
      "Epoch 27/100\n",
      "31/31 [==============================] - 2s 72ms/step - loss: 0.2313 - accuracy: 0.5418\n",
      "Epoch 28/100\n",
      "31/31 [==============================] - 2s 71ms/step - loss: 0.2374 - accuracy: 0.5388\n",
      "Epoch 29/100\n",
      "31/31 [==============================] - 2s 71ms/step - loss: 0.2394 - accuracy: 0.5194\n",
      "Epoch 30/100\n",
      "31/31 [==============================] - 2s 72ms/step - loss: 0.2207 - accuracy: 0.5939\n",
      "Epoch 31/100\n",
      "31/31 [==============================] - 2s 72ms/step - loss: 0.2254 - accuracy: 0.5684\n",
      "Epoch 32/100\n",
      "31/31 [==============================] - 2s 72ms/step - loss: 0.2275 - accuracy: 0.5612\n",
      "Epoch 33/100\n",
      "31/31 [==============================] - 2s 73ms/step - loss: 0.2251 - accuracy: 0.5622\n",
      "Epoch 34/100\n",
      "31/31 [==============================] - 2s 77ms/step - loss: 0.2200 - accuracy: 0.5694\n",
      "Epoch 35/100\n",
      "31/31 [==============================] - 2s 79ms/step - loss: 0.2046 - accuracy: 0.6031\n",
      "Epoch 36/100\n",
      "31/31 [==============================] - 2s 79ms/step - loss: 0.2060 - accuracy: 0.5990\n",
      "Epoch 37/100\n",
      "31/31 [==============================] - 2s 79ms/step - loss: 0.2114 - accuracy: 0.5888\n",
      "Epoch 38/100\n",
      "31/31 [==============================] - 3s 91ms/step - loss: 0.2198 - accuracy: 0.5673\n",
      "Epoch 39/100\n",
      "31/31 [==============================] - 3s 87ms/step - loss: 0.2181 - accuracy: 0.5908\n",
      "Epoch 40/100\n",
      "31/31 [==============================] - 2s 80ms/step - loss: 0.1954 - accuracy: 0.6245\n",
      "Epoch 41/100\n",
      "31/31 [==============================] - 2s 74ms/step - loss: 0.1940 - accuracy: 0.6214\n",
      "Epoch 42/100\n",
      "31/31 [==============================] - 3s 87ms/step - loss: 0.1930 - accuracy: 0.6500\n",
      "Epoch 43/100\n",
      "31/31 [==============================] - 2s 74ms/step - loss: 0.1827 - accuracy: 0.6633\n",
      "Epoch 44/100\n",
      "31/31 [==============================] - 2s 77ms/step - loss: 0.1952 - accuracy: 0.6337\n",
      "Epoch 45/100\n",
      "31/31 [==============================] - 2s 74ms/step - loss: 0.1826 - accuracy: 0.6531\n",
      "Epoch 46/100\n",
      "31/31 [==============================] - 2s 76ms/step - loss: 0.1725 - accuracy: 0.6694\n",
      "Epoch 47/100\n",
      "31/31 [==============================] - 3s 83ms/step - loss: 0.1642 - accuracy: 0.7153\n",
      "Epoch 48/100\n",
      "31/31 [==============================] - 2s 74ms/step - loss: 0.1701 - accuracy: 0.7010\n",
      "Epoch 49/100\n",
      "31/31 [==============================] - 2s 74ms/step - loss: 0.1712 - accuracy: 0.7031\n",
      "Epoch 50/100\n",
      "31/31 [==============================] - 2s 73ms/step - loss: 0.1624 - accuracy: 0.7000\n",
      "Epoch 51/100\n",
      "31/31 [==============================] - 2s 74ms/step - loss: 0.1605 - accuracy: 0.7255\n",
      "Epoch 52/100\n",
      "31/31 [==============================] - 2s 74ms/step - loss: 0.1561 - accuracy: 0.7214\n",
      "Epoch 53/100\n",
      "31/31 [==============================] - 2s 73ms/step - loss: 0.1687 - accuracy: 0.6929\n",
      "Epoch 54/100\n",
      "31/31 [==============================] - 2s 71ms/step - loss: 0.1486 - accuracy: 0.7306\n",
      "Epoch 55/100\n",
      "31/31 [==============================] - 2s 72ms/step - loss: 0.1421 - accuracy: 0.7561\n",
      "Epoch 56/100\n",
      "31/31 [==============================] - 2s 72ms/step - loss: 0.1287 - accuracy: 0.7857\n",
      "Epoch 57/100\n",
      "31/31 [==============================] - 2s 72ms/step - loss: 0.1449 - accuracy: 0.7643\n",
      "Epoch 58/100\n",
      "31/31 [==============================] - 2s 72ms/step - loss: 0.1169 - accuracy: 0.8133\n",
      "Epoch 59/100\n",
      "31/31 [==============================] - 2s 72ms/step - loss: 0.1127 - accuracy: 0.8184\n",
      "Epoch 60/100\n",
      "31/31 [==============================] - 2s 76ms/step - loss: 0.1133 - accuracy: 0.8224\n",
      "Epoch 61/100\n",
      "31/31 [==============================] - 2s 72ms/step - loss: 0.1057 - accuracy: 0.8245\n",
      "Epoch 62/100\n",
      "31/31 [==============================] - 2s 73ms/step - loss: 0.1291 - accuracy: 0.7806\n",
      "Epoch 63/100\n",
      "31/31 [==============================] - 2s 73ms/step - loss: 0.1380 - accuracy: 0.7561\n",
      "Epoch 64/100\n",
      "31/31 [==============================] - 2s 73ms/step - loss: 0.1183 - accuracy: 0.8051\n",
      "Epoch 65/100\n",
      "31/31 [==============================] - 2s 73ms/step - loss: 0.1163 - accuracy: 0.8031\n",
      "Epoch 66/100\n",
      "31/31 [==============================] - 2s 74ms/step - loss: 0.1057 - accuracy: 0.8245\n",
      "Epoch 67/100\n",
      "31/31 [==============================] - 2s 74ms/step - loss: 0.0995 - accuracy: 0.8265\n",
      "Epoch 68/100\n",
      "31/31 [==============================] - 2s 75ms/step - loss: 0.0861 - accuracy: 0.8643\n",
      "Epoch 69/100\n",
      "31/31 [==============================] - 2s 75ms/step - loss: 0.0820 - accuracy: 0.8633\n",
      "Epoch 70/100\n",
      "31/31 [==============================] - 2s 75ms/step - loss: 0.0819 - accuracy: 0.8745\n",
      "Epoch 71/100\n",
      "31/31 [==============================] - 2s 76ms/step - loss: 0.0646 - accuracy: 0.9102\n",
      "Epoch 72/100\n",
      "31/31 [==============================] - 2s 75ms/step - loss: 0.0918 - accuracy: 0.8520\n",
      "Epoch 73/100\n",
      "31/31 [==============================] - 2s 77ms/step - loss: 0.0682 - accuracy: 0.9020\n",
      "Epoch 74/100\n",
      "31/31 [==============================] - 2s 80ms/step - loss: 0.0540 - accuracy: 0.9265\n",
      "Epoch 75/100\n",
      "31/31 [==============================] - 3s 82ms/step - loss: 0.0790 - accuracy: 0.8847\n",
      "Epoch 76/100\n",
      "31/31 [==============================] - 3s 89ms/step - loss: 0.0802 - accuracy: 0.8816\n",
      "Epoch 77/100\n",
      "31/31 [==============================] - 3s 87ms/step - loss: 0.0715 - accuracy: 0.9010\n",
      "Epoch 78/100\n",
      "31/31 [==============================] - 3s 84ms/step - loss: 0.0630 - accuracy: 0.9061\n",
      "Epoch 79/100\n",
      "31/31 [==============================] - 2s 80ms/step - loss: 0.0376 - accuracy: 0.9582\n",
      "Epoch 80/100\n",
      "31/31 [==============================] - 3s 85ms/step - loss: 0.0422 - accuracy: 0.9439\n",
      "Epoch 81/100\n",
      "31/31 [==============================] - 3s 82ms/step - loss: 0.0547 - accuracy: 0.9224\n",
      "Epoch 82/100\n",
      "31/31 [==============================] - 3s 89ms/step - loss: 0.0332 - accuracy: 0.9643\n",
      "Epoch 83/100\n",
      "31/31 [==============================] - 3s 84ms/step - loss: 0.0275 - accuracy: 0.9684\n",
      "Epoch 84/100\n",
      "31/31 [==============================] - 2s 81ms/step - loss: 0.0249 - accuracy: 0.9765\n",
      "Epoch 85/100\n",
      "31/31 [==============================] - 3s 81ms/step - loss: 0.0187 - accuracy: 0.9857\n",
      "Epoch 86/100\n",
      "31/31 [==============================] - 3s 82ms/step - loss: 0.0213 - accuracy: 0.9765\n",
      "Epoch 87/100\n",
      "31/31 [==============================] - 3s 81ms/step - loss: 0.0308 - accuracy: 0.9612\n",
      "Epoch 88/100\n",
      "31/31 [==============================] - 3s 82ms/step - loss: 0.0540 - accuracy: 0.9296\n",
      "Epoch 89/100\n",
      "31/31 [==============================] - 3s 84ms/step - loss: 0.0380 - accuracy: 0.9490\n",
      "Epoch 90/100\n",
      "31/31 [==============================] - 3s 84ms/step - loss: 0.0502 - accuracy: 0.9286\n",
      "Epoch 91/100\n",
      "31/31 [==============================] - 3s 84ms/step - loss: 0.0376 - accuracy: 0.9561\n",
      "Epoch 92/100\n",
      "31/31 [==============================] - 3s 83ms/step - loss: 0.0335 - accuracy: 0.9561\n",
      "Epoch 93/100\n",
      "31/31 [==============================] - 3s 83ms/step - loss: 0.0298 - accuracy: 0.9622\n",
      "Epoch 94/100\n",
      "31/31 [==============================] - 3s 81ms/step - loss: 0.0217 - accuracy: 0.9776\n",
      "Epoch 95/100\n",
      "31/31 [==============================] - 3s 82ms/step - loss: 0.0185 - accuracy: 0.9816\n",
      "Epoch 96/100\n",
      "31/31 [==============================] - 3s 83ms/step - loss: 0.0117 - accuracy: 0.9908\n",
      "Epoch 97/100\n",
      "31/31 [==============================] - 3s 84ms/step - loss: 0.0134 - accuracy: 0.9837\n",
      "Epoch 98/100\n",
      "31/31 [==============================] - 3s 82ms/step - loss: 0.0495 - accuracy: 0.9306\n",
      "Epoch 99/100\n",
      "31/31 [==============================] - 3s 81ms/step - loss: 0.0358 - accuracy: 0.9551\n",
      "Epoch 100/100\n",
      "31/31 [==============================] - 3s 82ms/step - loss: 0.0132 - accuracy: 0.9929\n"
     ]
    }
   ],
   "source": [
    "history = model.fit(X_train, y_train, epochs=100)"
   ]
  },
  {
   "cell_type": "code",
   "execution_count": null,
   "outputs": [],
   "source": [
    "model.evaluate(X_test, y_test)"
   ],
   "metadata": {
    "collapsed": false,
    "pycharm": {
     "name": "#%%\n"
    }
   }
  },
  {
   "cell_type": "code",
   "execution_count": null,
   "outputs": [],
   "source": [
    "model.summary()"
   ],
   "metadata": {
    "collapsed": false,
    "pycharm": {
     "name": "#%%\n"
    }
   }
  },
  {
   "cell_type": "code",
   "execution_count": null,
   "outputs": [],
   "source": [
    "fig = plt.figure()\n",
    "plt.plot(history.history['loss'],'r')\n",
    "plt.plot(history.history['accuracy'],'b')\n",
    "plt.title('model accuracy and loss per epoch')\n",
    "plt.ylabel('accuracy and loss')\n",
    "plt.xlabel('epoch')\n",
    "plt.legend(['loss', 'accuracy'], loc='upper right')\n",
    "plt.grid()"
   ],
   "metadata": {
    "collapsed": false,
    "pycharm": {
     "name": "#%%\n"
    }
   }
  },
  {
   "cell_type": "code",
   "execution_count": null,
   "outputs": [],
   "source": [
    "#save entire model to HDF5 file\n",
    "model.save('LSTM_saved_model.h5')\n",
    "#Recreate the exact same model, including weights and optimizer\n",
    "new_model = tf.keras.models.load_model('LSTM_saved_model.h5')\n",
    "model.summary()"
   ],
   "metadata": {
    "collapsed": false,
    "pycharm": {
     "name": "#%%\n"
    }
   }
  },
  {
   "cell_type": "code",
   "execution_count": null,
   "outputs": [],
   "source": [],
   "metadata": {
    "collapsed": false,
    "pycharm": {
     "name": "#%%\n"
    }
   }
  },
  {
   "cell_type": "code",
   "execution_count": null,
   "outputs": [],
   "source": [],
   "metadata": {
    "collapsed": false,
    "pycharm": {
     "name": "#%%\n"
    }
   }
  },
  {
   "cell_type": "code",
   "execution_count": null,
   "outputs": [],
   "source": [
    "import pandas as pd\n",
    "import numpy as np\n",
    "import matplotlib.pyplot as plt\n",
    "from sklearn.model_selection import train_test_split"
   ],
   "metadata": {
    "collapsed": false,
    "pycharm": {
     "name": "#%%\n"
    }
   }
  },
  {
   "cell_type": "code",
   "execution_count": null,
   "outputs": [],
   "source": [
    "# df = pd.read_csv('BLE_rssi_V12.csv')\n",
    "# df = pd.read_csv('Data/BLE_rssi_after_FFT_Filter_Grid_1.5m_2.5m.csv')\n",
    "df = pd.read_csv('Data/Drowsiness_dataset.csv')\n"
   ],
   "metadata": {
    "collapsed": false,
    "pycharm": {
     "name": "#%%\n"
    }
   }
  },
  {
   "cell_type": "code",
   "execution_count": null,
   "outputs": [],
   "source": [
    "df['drowsiness'] = df['drowsiness'].replace(np.unique(df['drowsiness'].to_numpy()), np.arange(8))"
   ],
   "metadata": {
    "collapsed": false,
    "pycharm": {
     "name": "#%%\n"
    }
   }
  },
  {
   "cell_type": "code",
   "execution_count": null,
   "outputs": [],
   "source": [
    "## Y calculation\n",
    "one_hot = pd.get_dummies(df['drowsiness'])\n",
    "y = one_hot[:21000].to_numpy()\n",
    "y = y.reshape([-1, 10, 8])\n",
    "# y = y.reshape([-1, 20, 8])\n",
    "y = np.sum(y, 1)\n",
    "y[y > 1] = 1\n",
    "\n",
    "x = df.drop(['time', 'drowsiness'], axis=1).to_numpy()\n",
    "x = x[:21000].reshape([-1, 10, 12, 1])\n",
    "# x = x[:21000].reshape([-1, 20, 12, 1])"
   ],
   "metadata": {
    "collapsed": false,
    "pycharm": {
     "name": "#%%\n"
    }
   }
  },
  {
   "cell_type": "code",
   "execution_count": null,
   "outputs": [],
   "source": [
    "import tensorflow as tf"
   ],
   "metadata": {
    "collapsed": false,
    "pycharm": {
     "name": "#%%\n"
    }
   }
  },
  {
   "cell_type": "code",
   "execution_count": null,
   "outputs": [],
   "source": [
    "model = tf.keras.models.Sequential()\n",
    "model.add(tf.keras.layers.Conv2D(10, 2, input_shape=[10, 12, 1]))\n",
    "# model.add(tf.keras.layers.Conv2D(20, 2, input_shape=[20, 12, 1]))\n",
    "model.add(tf.keras.layers.MaxPool2D(pool_size=(2, 2), strides=(1, 1), padding='same'))\n",
    "model.add(tf.keras.layers.Flatten())\n",
    "model.add(tf.keras.layers.Reshape([99, 10]))\n",
    "# model.add(tf.keras.layers.Reshape([209, 20]))\n",
    "model.add(tf.keras.layers.LSTM(500))\n",
    "model.add(tf.keras.layers.Dense(8, activation='softmax'))\n",
    "model.compile(loss='binary_crossentropy', optimizer='adam',  metrics=['accuracy'])"
   ],
   "metadata": {
    "collapsed": false,
    "pycharm": {
     "name": "#%%\n"
    }
   }
  },
  {
   "cell_type": "code",
   "execution_count": null,
   "outputs": [],
   "source": [
    "X_train, X_test, y_train, y_test = train_test_split(x, y, test_size=0.33, random_state=12)\n",
    "\n",
    "\n",
    "print(X_train.shape)\n",
    "print(X_test.shape)\n",
    "\n",
    "print(y_train.shape)\n",
    "print(y_test.shape)"
   ],
   "metadata": {
    "collapsed": false,
    "pycharm": {
     "name": "#%%\n"
    }
   }
  },
  {
   "cell_type": "code",
   "execution_count": null,
   "outputs": [],
   "source": [
    "history = model.fit(X_train, y_train, epochs=90)"
   ],
   "metadata": {
    "collapsed": false,
    "pycharm": {
     "name": "#%%\n"
    }
   }
  },
  {
   "cell_type": "code",
   "execution_count": null,
   "outputs": [],
   "source": [
    "model.evaluate(X_test, y_test)"
   ],
   "metadata": {
    "collapsed": false,
    "pycharm": {
     "name": "#%%\n"
    }
   }
  },
  {
   "cell_type": "code",
   "execution_count": 125,
   "metadata": {
    "collapsed": false
   },
   "outputs": [
    {
     "name": "stdout",
     "output_type": "stream",
     "text": [
      "14/14 [==============================] - 0s 27ms/step - loss: 0.3903 - accuracy: 0.5357\n"
     ]
    },
    {
     "data": {
      "text/plain": [
       "[0.3903229832649231, 0.5357142686843872]"
      ]
     },
     "execution_count": 125,
     "metadata": {},
     "output_type": "execute_result"
    }
   ],
   "source": []
  },
  {
   "cell_type": "code",
   "execution_count": 71,
   "metadata": {
    "collapsed": false
   },
   "outputs": [
    {
     "name": "stdout",
     "output_type": "stream",
     "text": [
      "Model: \"sequential_4\"\n",
      "_________________________________________________________________\n",
      "Layer (type)                 Output Shape              Param #   \n",
      "=================================================================\n",
      "lstm_4 (LSTM)                (None, 500)               1026000   \n",
      "_________________________________________________________________\n",
      "dense_4 (Dense)              (None, 8)                 4008      \n",
      "=================================================================\n",
      "Total params: 1,030,008\n",
      "Trainable params: 1,030,008\n",
      "Non-trainable params: 0\n",
      "_________________________________________________________________\n"
     ]
    }
   ],
   "source": [
    "model.summary()"
   ]
  },
  {
   "cell_type": "code",
   "execution_count": 72,
   "metadata": {
    "collapsed": false
   },
   "outputs": [
    {
     "data": {
      "image/png": "[encoded data removed]",
      "text/plain": [
       "<Figure size 432x288 with 1 Axes>"
      ]
     },
     "metadata": {
      "needs_background": "light"
     },
     "output_type": "display_data"
    }
   ],
   "source": [
    "fig = plt.figure()\n",
    "plt.plot(history.history['loss'],'r')\n",
    "plt.plot(history.history['accuracy'],'b')\n",
    "plt.title('model accuracy and loss per epoch')\n",
    "plt.ylabel('accuracy and loss')\n",
    "plt.xlabel('epoch')\n",
    "plt.legend(['loss', 'accuracy'], loc='upper right')\n",
    "plt.grid()"
   ]
  },
  {
   "cell_type": "code",
   "execution_count": 73,
   "metadata": {
    "collapsed": false
   },
   "outputs": [
    {
     "name": "stdout",
     "output_type": "stream",
     "text": [
      "Model: \"sequential_4\"\n",
      "_________________________________________________________________\n",
      "Layer (type)                 Output Shape              Param #   \n",
      "=================================================================\n",
      "lstm_4 (LSTM)                (None, 500)               1026000   \n",
      "_________________________________________________________________\n",
      "dense_4 (Dense)              (None, 8)                 4008      \n",
      "=================================================================\n",
      "Total params: 1,030,008\n",
      "Trainable params: 1,030,008\n",
      "Non-trainable params: 0\n",
      "_________________________________________________________________\n"
     ]
    }
   ],
   "source": [
    "#save entire model to HDF5 file\n",
    "model.save('LSTM_saved_model.h5')\n",
    "#Recreate the exact same model, including weights and optimizer\n",
    "new_model = tf.keras.models.load_model('LSTM_saved_model.h5')\n",
    "model.summary()"
   ]
  },
  {
   "cell_type": "code",
   "execution_count": null,
   "metadata": {
    "collapsed": true
   },
   "outputs": [],
   "source": []
  },
  {
   "cell_type": "code",
   "execution_count": null,
   "metadata": {
    "collapsed": true
   },
   "outputs": [],
   "source": []
  },
  {
   "cell_type": "code",
   "execution_count": 201,
   "metadata": {
    "collapsed": true
   },
   "outputs": [],
   "source": [
    "import pandas as pd\n",
    "import numpy as np\n",
    "import matplotlib.pyplot as plt\n",
    "from sklearn.model_selection import train_test_split"
   ]
  },
  {
   "cell_type": "code",
   "execution_count": 202,
   "metadata": {
    "collapsed": true
   },
   "outputs": [],
   "source": [
    "# df = pd.read_csv('BLE_rssi_V12.csv')\n",
    "# df = pd.read_csv('Data/BLE_rssi_after_FFT_Filter_Grid_1.5m_2.5m.csv')\n",
    "df = pd.read_csv('Data/Drowsiness_dataset.csv')\n"
   ]
  },
  {
   "cell_type": "code",
   "execution_count": 203,
   "metadata": {
    "collapsed": true
   },
   "outputs": [],
   "source": [
    "df['drowsiness'] = df['drowsiness'].replace(np.unique(df['drowsiness'].to_numpy()), np.arange(8))"
   ]
  },
  {
   "cell_type": "code",
   "execution_count": 204,
   "metadata": {
    "collapsed": true
   },
   "outputs": [],
   "source": [
    "## Y calculation\n",
    "one_hot = pd.get_dummies(df['drowsiness'])\n",
    "y = one_hot[:21000].to_numpy()\n",
    "y = y.reshape([-1, 10, 8])\n",
    "# y = y.reshape([-1, 20, 8])\n",
    "y = np.sum(y, 1)\n",
    "y[y > 1] = 1\n",
    "\n",
    "x = df.drop(['time', 'drowsiness'], axis=1).to_numpy()\n",
    "x = x[:21000].reshape([-1, 10, 12, 1])\n",
    "# x = x[:21000].reshape([-1, 20, 12, 1])"
   ]
  },
  {
   "cell_type": "code",
   "execution_count": 205,
   "metadata": {
    "collapsed": true
   },
   "outputs": [],
   "source": [
    "import tensorflow as tf"
   ]
  },
  {
   "cell_type": "code",
   "execution_count": 206,
   "metadata": {
    "collapsed": true
   },
   "outputs": [],
   "source": [
    "model = tf.keras.models.Sequential()\n",
    "model.add(tf.keras.layers.Conv2D(10, 2, input_shape=[10, 12, 1]))\n",
    "# model.add(tf.keras.layers.Conv2D(20, 2, input_shape=[20, 12, 1]))\n",
    "model.add(tf.keras.layers.MaxPool2D(pool_size=(2, 2), strides=(1, 1), padding='same'))\n",
    "model.add(tf.keras.layers.Flatten())\n",
    "model.add(tf.keras.layers.Reshape([99, 10]))\n",
    "# model.add(tf.keras.layers.Reshape([209, 20]))\n",
    "model.add(tf.keras.layers.LSTM(500))\n",
    "model.add(tf.keras.layers.Dense(8, activation='softmax'))\n",
    "model.compile(loss='binary_crossentropy', optimizer='adam',  metrics=['accuracy'])"
   ]
  },
  {
   "cell_type": "code",
   "execution_count": 207,
   "metadata": {
    "collapsed": false
   },
   "outputs": [
    {
     "name": "stdout",
     "output_type": "stream",
     "text": [
      "(1407, 10, 12, 1)\n",
      "(693, 10, 12, 1)\n",
      "(1407, 8)\n",
      "(693, 8)\n"
     ]
    }
   ],
   "source": [
    "X_train, X_test, y_train, y_test = train_test_split(x, y, test_size=0.33, random_state=12)\n",
    "\n",
    "\n",
    "print(X_train.shape)\n",
    "print(X_test.shape)\n",
    "\n",
    "print(y_train.shape)\n",
    "print(y_test.shape)"
   ]
  },
  {
   "cell_type": "code",
   "execution_count": 209,
   "metadata": {
    "collapsed": false
   },
   "outputs": [],
   "source": [
    "history = model.fit(X_train, y_train, epochs=90)"
   ]
  },
  {
   "cell_type": "code",
   "execution_count": 200,
   "metadata": {
    "collapsed": false
   },
   "outputs": [
    {
     "name": "stdout",
     "output_type": "stream",
     "text": [
      "11/11 [==============================] - 4s 374ms/step - loss: 0.3402 - accuracy: 0.2939\n"
     ]
    },
    {
     "data": {
      "text/plain": [
       "[0.34022918343544006, 0.29394811391830444]"
      ]
     },
     "execution_count": 200,
     "metadata": {},
     "output_type": "execute_result"
    }
   ],
   "source": [
    "model.evaluate(X_test, y_test)"
   ]
  },
  {
   "cell_type": "code",
   "execution_count": null,
   "metadata": {
    "collapsed": true
   },
   "outputs": [],
   "source": []
  }
 ],
 "metadata": {
  "kernelspec": {
   "display_name": "Python 3",
   "language": "python",
   "name": "python3"
  },
  "language_info": {
   "codemirror_mode": {
    "name": "ipython",
    "version": 3
   },
   "file_extension": ".py",
   "mimetype": "text/x-python",
   "name": "python",
   "nbconvert_exporter": "python",
   "pygments_lexer": "ipython3",
   "version": "3.8.0"
  },
  "pycharm": {
   "stem_cell": {
    "cell_type": "raw",
    "source": [],
    "metadata": {
     "collapsed": false
    }
   }
  }
 },
 "nbformat": 4,
 "nbformat_minor": 4
}